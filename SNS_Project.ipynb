{
  "nbformat": 4,
  "nbformat_minor": 0,
  "metadata": {
    "colab": {
      "provenance": []
    },
    "kernelspec": {
      "name": "python3",
      "display_name": "Python 3"
    },
    "language_info": {
      "name": "python"
    }
  },
  "cells": [
    {
      "cell_type": "code",
      "execution_count": 17,
      "metadata": {
        "id": "TMdmGWNf4-rB"
      },
      "outputs": [],
      "source": [
        "import numpy as np\n",
        "from scipy import signal\n",
        "\n",
        "# Define the input signal x(t) from the input text file\n",
        "def read_input_signal(filename):\n",
        "    with open(filename, 'r') as file:\n",
        "        lines = file.readlines()\n",
        "        x = [float(line.strip()) for line in lines]\n",
        "    return np.array(x)"
      ]
    },
    {
      "cell_type": "code",
      "source": [
        "# Defining the given output signal y(t) from the output text file\n",
        "def read_output_signal(filename):\n",
        "    with open(filename, 'r') as file:\n",
        "        lines = file.readlines()\n",
        "        y = [float(line.strip()) for line in lines]\n",
        "    return np.array(y)\n"
      ],
      "metadata": {
        "id": "-8SFN_kK9sb7"
      },
      "execution_count": 18,
      "outputs": []
    },
    {
      "cell_type": "code",
      "source": [
        "# Defining the designed filters\n",
        "def low_pass_filter(fc, fs, num_taps=101):\n",
        "    nyquist = 0.5 * fs\n",
        "    cutoff = fc / nyquist\n",
        "    taps = signal.firwin(num_taps, cutoff, window='hamming')\n",
        "    return taps"
      ],
      "metadata": {
        "id": "blsNw7L79set"
      },
      "execution_count": 19,
      "outputs": []
    },
    {
      "cell_type": "code",
      "source": [
        "def high_pass_filter(fc, fs, num_taps=101):\n",
        "    nyquist = 0.5 * fs\n",
        "    cutoff = fc / nyquist\n",
        "    taps = signal.firwin(num_taps, cutoff, pass_zero=False, window='hamming')\n",
        "    return taps"
      ],
      "metadata": {
        "id": "1OWEAekf9shS"
      },
      "execution_count": 20,
      "outputs": []
    },
    {
      "cell_type": "code",
      "source": [
        "def band_pass_filter(fc_low, fc_high, fs, num_taps=101):\n",
        "    nyquist = 0.5 * fs\n",
        "    low_cutoff = fc_low / nyquist\n",
        "    high_cutoff = fc_high / nyquist\n",
        "    taps = signal.firwin(num_taps, [low_cutoff, high_cutoff], pass_zero=False, window='hamming')\n",
        "    return taps"
      ],
      "metadata": {
        "id": "piviYeKc9sjo"
      },
      "execution_count": 21,
      "outputs": []
    },
    {
      "cell_type": "code",
      "source": [
        "# Convolve the filters with the input signal to obtain filtered outputs\n",
        "def apply_filter(filter_taps, input_signal):\n",
        "    filtered_output = signal.convolve(input_signal, filter_taps, mode='same')\n",
        "    return filtered_output"
      ],
      "metadata": {
        "id": "dKRKgyjh9smA"
      },
      "execution_count": 22,
      "outputs": []
    },
    {
      "cell_type": "code",
      "source": [
        "# Calculating correlation coefficient\n",
        "def calculate_correlation(signal1, signal2):\n",
        "    correlation_coefficient = np.corrcoef(signal1, signal2)[0, 1]\n",
        "    return correlation_coefficient"
      ],
      "metadata": {
        "id": "ybHU4MOa9spd"
      },
      "execution_count": 23,
      "outputs": []
    },
    {
      "cell_type": "code",
      "source": [
        "# Main function\n",
        "if __name__ == \"__main__\":\n",
        "    # Read input signal x(t) from the input text file\n",
        "    input_signal_filename = \"INPUT-SIGNAL-X(t).txt\"\n",
        "    x = read_input_signal(input_signal_filename)\n",
        "\n",
        "    # Read output signal y(t) from the output text file\n",
        "    output_signal_filename = \"OUTPUT-SIGNAL-Y(t).txt\"\n",
        "    y = read_output_signal(output_signal_filename)\n",
        "\n",
        "    # Defining parameters\n",
        "    fs = 1000  # Sampling frequency\n",
        "    fc_lp = 50  # Cut-off frequency for Low Pass Filter\n",
        "    fc_hp = 50  # Cut-off frequency for High Pass Filter\n",
        "    fc_bp_low = 40  # Lower cut-off frequency for Band Pass Filter\n",
        "    fc_bp_high = 60  # Higher cut-off frequency for Band Pass Filter\n",
        "\n",
        "    # Generating filter coefficients\n",
        "    lp_filter = low_pass_filter(fc_lp, fs)\n",
        "    hp_filter = high_pass_filter(fc_hp, fs)\n",
        "    bp_filter = band_pass_filter(fc_bp_low, fc_bp_high, fs)\n",
        "\n",
        "    # Applying filters to the input signal\n",
        "    y_lp = apply_filter(lp_filter, x)\n",
        "    y_hp = apply_filter(hp_filter, x)\n",
        "    y_bp = apply_filter(bp_filter, x)\n",
        "\n",
        "\n",
        "    # Calculating correlation coefficients\n",
        "    corr_lp = calculate_correlation(y_lp, y)\n",
        "    corr_hp = calculate_correlation(y_hp, y)\n",
        "    corr_bp = calculate_correlation(y_bp, y)\n",
        "\n",
        "    # Printing correlation coefficients\n",
        "    print(\"Correlation coefficient with Low Pass Filtered Output:\", corr_lp)\n",
        "    print(\"Correlation coefficient with High Pass Filtered Output:\", corr_hp)\n",
        "    print(\"Correlation coefficient with Band Pass Filtered Output:\", corr_bp)\n",
        "\n",
        "    # Identifying which filtered output best matches the given output signal\n",
        "    best_match = max(corr_lp, corr_hp, corr_bp)\n",
        "    if best_match == corr_lp:\n",
        "        print(\"Low Pass Filtered Output best matches the given Output signal.\")\n",
        "    elif best_match == corr_hp:\n",
        "        print(\"High Pass Filtered Output best matches the given Output signal.\")\n",
        "    else:\n",
        "        print(\"Band Pass Filtered Output best matches the given Output signal.\")\n"
      ],
      "metadata": {
        "colab": {
          "base_uri": "https://localhost:8080/"
        },
        "id": "G_s3-_vN9s00",
        "outputId": "1ea98f3e-979d-4b64-8157-364b7279b8a1"
      },
      "execution_count": 24,
      "outputs": [
        {
          "output_type": "stream",
          "name": "stdout",
          "text": [
            "Correlation coefficient with Low Pass Filtered Output: -0.2879890665791803\n",
            "Correlation coefficient with High Pass Filtered Output: -0.0021771591542695977\n",
            "Correlation coefficient with Band Pass Filtered Output: 0.008725263511266993\n",
            "Band Pass Filtered Output best matches the given Output signal.\n"
          ]
        }
      ]
    }
  ]
}